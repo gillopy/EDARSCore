{
 "cells": [
  {
   "cell_type": "code",
   "execution_count": 5,
   "metadata": {},
   "outputs": [],
   "source": [
    "import numpy as np\n",
    "import pandas as pd"
   ]
  },
  {
   "cell_type": "code",
   "execution_count": 6,
   "metadata": {},
   "outputs": [
    {
     "name": "stdout",
     "output_type": "stream",
     "text": [
      "[['Transaction ID' 'Date' 'Customer ID' ... 'Quantity' 'Price per Unit'\n",
      "  'Total Amount']\n",
      " ['1' '2023-11-24' 'CUST001' ... '3' '50' '150']\n",
      " ['2' '2023-02-27' 'CUST002' ... '2' '500' '1000']\n",
      " ...\n",
      " ['998' '2023-10-29' 'CUST998' ... '4' '25' '100']\n",
      " ['999' '2023-12-05' 'CUST999' ... '3' '50' '150']\n",
      " ['1000' '2023-04-12' 'CUST1000' ... '4' '30' '120']]\n"
     ]
    }
   ],
   "source": [
    "import numpy as np\n",
    "\n",
    "def cargar_datos(ruta_archivo):\n",
    "    # Carga los datos del archivo CSV utilizando NumPy\n",
    "    data = np.genfromtxt(ruta_archivo, delimiter=',', skip_header=0, dtype=None, encoding=None)\n",
    "    return data\n",
    "\n",
    "\n",
    "\n",
    "if __name__ == \"__main__\":\n",
    "    ruta_archivo = '../data/retail_sales_dataset.csv'\n",
    "    data = cargar_datos(ruta_archivo)\n",
    "    print(data)\n"
   ]
  },
  {
   "cell_type": "code",
   "execution_count": 7,
   "metadata": {},
   "outputs": [
    {
     "name": "stdout",
     "output_type": "stream",
     "text": [
      "[['Transaction ID' 'Date' 'Customer ID' 'Gender' 'Age' 'Product Category'\n",
      "  'Quantity' 'Price per Unit' 'Total Amount']\n",
      " ['1' '2023-11-24' 'CUST001' 'Male' '34' 'Beauty' '3' '50' '150']\n",
      " ['2' '2023-02-27' 'CUST002' 'Female' '26' 'Clothing' '2' '500' '1000']\n",
      " ['3' '2023-01-13' 'CUST003' 'Male' '50' 'Electronics' '1' '30' '30']\n",
      " ['4' '2023-05-21' 'CUST004' 'Male' '37' 'Clothing' '1' '500' '500']\n",
      " ['5' '2023-05-06' 'CUST005' 'Male' '30' 'Beauty' '2' '50' '100']\n",
      " ['6' '2023-04-25' 'CUST006' 'Female' '45' 'Beauty' '1' '30' '30']\n",
      " ['7' '2023-03-13' 'CUST007' 'Male' '46' 'Clothing' '2' '25' '50']\n",
      " ['8' '2023-02-22' 'CUST008' 'Male' '30' 'Electronics' '4' '25' '100']\n",
      " ['9' '2023-12-13' 'CUST009' 'Male' '63' 'Electronics' '2' '300' '600']]\n"
     ]
    }
   ],
   "source": [
    "print(data[0:10])  # Muestra las primeras 5 filas\n"
   ]
  },
  {
   "cell_type": "code",
   "execution_count": 8,
   "metadata": {},
   "outputs": [
    {
     "name": "stdout",
     "output_type": "stream",
     "text": [
      "Valores faltantes por columna:\n",
      "Transaction ID      0\n",
      "Date                0\n",
      "Customer ID         0\n",
      "Gender              0\n",
      "Age                 0\n",
      "Product Category    0\n",
      "Quantity            0\n",
      "Price per Unit      0\n",
      "Total Amount        0\n",
      "dtype: int64\n"
     ]
    }
   ],
   "source": [
    "# Convertir a DataFrame de pandas\n",
    "df = pd.DataFrame(data[1:], columns=data[0])  # Usa la primera fila como encabezados\n",
    "\n",
    "# Verificar valores faltantes\n",
    "valores_faltantes = df.isnull().sum()  # Usar la función de pandas para contar valores nulos\n",
    "print(\"Valores faltantes por columna:\")\n",
    "print(valores_faltantes)"
   ]
  },
  {
   "cell_type": "code",
   "execution_count": 9,
   "metadata": {},
   "outputs": [
    {
     "name": "stdout",
     "output_type": "stream",
     "text": [
      "Index(['Transaction ID', 'Date', 'Customer ID', 'Gender', 'Age',\n",
      "       'Product Category', 'Quantity', 'Price per Unit', 'Total Amount'],\n",
      "      dtype='object')\n"
     ]
    }
   ],
   "source": [
    "print(df.columns)"
   ]
  },
  {
   "cell_type": "code",
   "execution_count": 10,
   "metadata": {},
   "outputs": [],
   "source": [
    "df['Total Amount'] = pd.to_numeric(df['Total Amount'], errors='coerce')\n",
    "df['Date'] = pd.to_datetime(df['Date'], errors='coerce')\n",
    "\n"
   ]
  },
  {
   "cell_type": "code",
   "execution_count": 11,
   "metadata": {},
   "outputs": [
    {
     "name": "stdout",
     "output_type": "stream",
     "text": [
      "Total de ventas por categoría:\n",
      "Product Category\n",
      "Beauty         143515\n",
      "Clothing       155580\n",
      "Electronics    156905\n",
      "Name: Total Amount, dtype: int64\n"
     ]
    }
   ],
   "source": [
    "total_ventas_por_categoria = df.groupby('Product Category')['Total Amount'].sum()\n",
    "\n",
    "print(\"Total de ventas por categoría:\")\n",
    "print(total_ventas_por_categoria)"
   ]
  },
  {
   "cell_type": "code",
   "execution_count": 12,
   "metadata": {},
   "outputs": [
    {
     "name": "stdout",
     "output_type": "stream",
     "text": [
      "Promedio de ventas diarias por categoría:\n",
      "Product Category\n",
      "Beauty         703.504902\n",
      "Clothing       670.603448\n",
      "Electronics    716.461187\n",
      "Name: Total Amount, dtype: float64\n"
     ]
    }
   ],
   "source": [
    "# Agrupar por categoría de producto y fecha\n",
    "ventas_diarias_por_categoria = df.groupby(['Product Category', df['Date'].dt.date])['Total Amount'].sum()\n",
    "\n",
    "# Calcular el promedio de ventas diarias por categoría de producto\n",
    "promedio_ventas_diarias = ventas_diarias_por_categoria.groupby('Product Category').mean()\n",
    "\n",
    "# Imprimir el promedio de ventas diarias\n",
    "print(\"Promedio de ventas diarias por categoría:\")\n",
    "print(promedio_ventas_diarias)\n"
   ]
  },
  {
   "cell_type": "code",
   "execution_count": 13,
   "metadata": {},
   "outputs": [
    {
     "name": "stdout",
     "output_type": "stream",
     "text": [
      "Categoría con mayores ventas diarias: Electronics con un promedio de 716.4611872146119\n",
      "Categoría con menores ventas diarias: Clothing con un promedio de 670.6034482758621\n"
     ]
    }
   ],
   "source": [
    "# Categoría con mayores ventas diarias\n",
    "categoria_mayores_ventas = promedio_ventas_diarias.idxmax()\n",
    "mayores_ventas = promedio_ventas_diarias.max()\n",
    "\n",
    "# Categoría con menores ventas diarias\n",
    "categoria_menores_ventas = promedio_ventas_diarias.idxmin()\n",
    "menores_ventas = promedio_ventas_diarias.min()\n",
    "\n",
    "# Imprimir resultados\n",
    "print(f\"Categoría con mayores ventas diarias: {categoria_mayores_ventas} con un promedio de {mayores_ventas}\")\n",
    "print(f\"Categoría con menores ventas diarias: {categoria_menores_ventas} con un promedio de {menores_ventas}\")\n"
   ]
  },
  {
   "cell_type": "code",
   "execution_count": 14,
   "metadata": {},
   "outputs": [
    {
     "name": "stdout",
     "output_type": "stream",
     "text": [
      "   Transaction ID       Date Customer ID  Gender Age Product Category  \\\n",
      "2               3 2023-01-13     CUST003    Male  50      Electronics   \n",
      "7               8 2023-02-22     CUST008    Male  30      Electronics   \n",
      "8               9 2023-12-13     CUST009    Male  63      Electronics   \n",
      "12             13 2023-08-05     CUST013    Male  22      Electronics   \n",
      "14             15 2023-01-16     CUST015  Female  42      Electronics   \n",
      "\n",
      "   Quantity Price per Unit  Total Amount  \n",
      "2         1             30            30  \n",
      "7         4             25           100  \n",
      "8         2            300           600  \n",
      "12        3            500          1500  \n",
      "14        4            500          2000  \n"
     ]
    }
   ],
   "source": [
    "# Filtrar datos para la categoría 'Electronics'\n",
    "categoria_especifica = 'Electronics'\n",
    "df_filtrado = df[df['Product Category'] == categoria_especifica]\n",
    "\n",
    "# Mostrar las primeras filas del DataFrame filtrado\n",
    "print(df_filtrado.head())\n"
   ]
  },
  {
   "cell_type": "code",
   "execution_count": 15,
   "metadata": {},
   "outputs": [
    {
     "name": "stdout",
     "output_type": "stream",
     "text": [
      "Suma total de ventas para Electronics: 156905\n"
     ]
    }
   ],
   "source": [
    "# Suma del total de ventas para la categoría filtrada\n",
    "suma_total_ventas = df_filtrado['Total Amount'].sum()\n",
    "print(f\"Suma total de ventas para {categoria_especifica}: {suma_total_ventas}\")\n"
   ]
  },
  {
   "cell_type": "code",
   "execution_count": 16,
   "metadata": {},
   "outputs": [
    {
     "name": "stdout",
     "output_type": "stream",
     "text": [
      "    Total Amount  Ventas_Restadas\n",
      "2             30               20\n",
      "7            100               90\n",
      "8            600              590\n",
      "12          1500             1490\n",
      "14          2000             1990\n"
     ]
    },
    {
     "name": "stderr",
     "output_type": "stream",
     "text": [
      "C:\\Users\\guill\\AppData\\Local\\Temp\\ipykernel_1316\\487465651.py:2: SettingWithCopyWarning: \n",
      "A value is trying to be set on a copy of a slice from a DataFrame.\n",
      "Try using .loc[row_indexer,col_indexer] = value instead\n",
      "\n",
      "See the caveats in the documentation: https://pandas.pydata.org/pandas-docs/stable/user_guide/indexing.html#returning-a-view-versus-a-copy\n",
      "  df_filtrado['Ventas_Restadas'] = df_filtrado['Total Amount'] - 10\n"
     ]
    }
   ],
   "source": [
    "# Resta un valor fijo (por ejemplo, 10) a cada valor en la columna 'Total Amount'\n",
    "df_filtrado['Ventas_Restadas'] = df_filtrado['Total Amount'] - 10\n",
    "print(df_filtrado[['Total Amount', 'Ventas_Restadas']].head())\n"
   ]
  },
  {
   "cell_type": "code",
   "execution_count": 17,
   "metadata": {},
   "outputs": [
    {
     "name": "stdout",
     "output_type": "stream",
     "text": [
      "    Total Amount  Ventas_Multiplicadas\n",
      "2             30                  36.0\n",
      "7            100                 120.0\n",
      "8            600                 720.0\n",
      "12          1500                1800.0\n",
      "14          2000                2400.0\n"
     ]
    },
    {
     "name": "stderr",
     "output_type": "stream",
     "text": [
      "C:\\Users\\guill\\AppData\\Local\\Temp\\ipykernel_1316\\3351766801.py:2: SettingWithCopyWarning: \n",
      "A value is trying to be set on a copy of a slice from a DataFrame.\n",
      "Try using .loc[row_indexer,col_indexer] = value instead\n",
      "\n",
      "See the caveats in the documentation: https://pandas.pydata.org/pandas-docs/stable/user_guide/indexing.html#returning-a-view-versus-a-copy\n",
      "  df_filtrado['Ventas_Multiplicadas'] = df_filtrado['Total Amount'] * 1.2\n"
     ]
    }
   ],
   "source": [
    "# Multiplica las ventas por un factor (por ejemplo, multiplicar por 1.2 para obtener un incremento del 20%)\n",
    "df_filtrado['Ventas_Multiplicadas'] = df_filtrado['Total Amount'] * 1.2\n",
    "print(df_filtrado[['Total Amount', 'Ventas_Multiplicadas']].head())\n"
   ]
  },
  {
   "cell_type": "code",
   "execution_count": 18,
   "metadata": {},
   "outputs": [
    {
     "name": "stdout",
     "output_type": "stream",
     "text": [
      "    Total Amount  Ventas_Divididas\n",
      "2             30               0.3\n",
      "7            100               1.0\n",
      "8            600               6.0\n",
      "12          1500              15.0\n",
      "14          2000              20.0\n"
     ]
    },
    {
     "name": "stderr",
     "output_type": "stream",
     "text": [
      "C:\\Users\\guill\\AppData\\Local\\Temp\\ipykernel_1316\\1415833050.py:2: SettingWithCopyWarning: \n",
      "A value is trying to be set on a copy of a slice from a DataFrame.\n",
      "Try using .loc[row_indexer,col_indexer] = value instead\n",
      "\n",
      "See the caveats in the documentation: https://pandas.pydata.org/pandas-docs/stable/user_guide/indexing.html#returning-a-view-versus-a-copy\n",
      "  df_filtrado['Ventas_Divididas'] = df_filtrado['Total Amount'] / 100\n"
     ]
    }
   ],
   "source": [
    "# Divide el total de ventas entre un valor fijo (por ejemplo, dividir entre 100)\n",
    "df_filtrado['Ventas_Divididas'] = df_filtrado['Total Amount'] / 100\n",
    "print(df_filtrado[['Total Amount', 'Ventas_Divididas']].head())\n"
   ]
  },
  {
   "cell_type": "code",
   "execution_count": 19,
   "metadata": {},
   "outputs": [
    {
     "name": "stdout",
     "output_type": "stream",
     "text": [
      "Promedio de ventas para Electronics: 458.7865497076023\n"
     ]
    }
   ],
   "source": [
    "# Calcular el promedio de ventas para la categoría específica\n",
    "promedio_ventas = df_filtrado['Total Amount'].mean()\n",
    "print(f\"Promedio de ventas para {categoria_especifica}: {promedio_ventas}\")\n"
   ]
  },
  {
   "cell_type": "code",
   "execution_count": 20,
   "metadata": {},
   "outputs": [
    {
     "name": "stdout",
     "output_type": "stream",
     "text": [
      "Desviación estándar de ventas para Electronics: 567.5401504215833\n"
     ]
    }
   ],
   "source": [
    "# Calcular la desviación estándar de las ventas\n",
    "desviacion_ventas = df_filtrado['Total Amount'].std()\n",
    "print(f\"Desviación estándar de ventas para {categoria_especifica}: {desviacion_ventas}\")\n"
   ]
  },
  {
   "cell_type": "code",
   "execution_count": 21,
   "metadata": {},
   "outputs": [
    {
     "name": "stdout",
     "output_type": "stream",
     "text": [
      "Máxima venta para Electronics: 2000\n",
      "Mínima venta para Electronics: 25\n"
     ]
    }
   ],
   "source": [
    "# Calcular el valor máximo y mínimo de ventas para la categoría específica\n",
    "max_ventas = df_filtrado['Total Amount'].max()\n",
    "min_ventas = df_filtrado['Total Amount'].min()\n",
    "print(f\"Máxima venta para {categoria_especifica}: {max_ventas}\")\n",
    "print(f\"Mínima venta para {categoria_especifica}: {min_ventas}\")\n"
   ]
  }
 ],
 "metadata": {
  "kernelspec": {
   "display_name": "mitic",
   "language": "python",
   "name": "python3"
  },
  "language_info": {
   "codemirror_mode": {
    "name": "ipython",
    "version": 3
   },
   "file_extension": ".py",
   "mimetype": "text/x-python",
   "name": "python",
   "nbconvert_exporter": "python",
   "pygments_lexer": "ipython3",
   "version": "3.12.7"
  }
 },
 "nbformat": 4,
 "nbformat_minor": 2
}
